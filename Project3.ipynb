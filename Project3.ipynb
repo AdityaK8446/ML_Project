{
 "cells": [
  {
   "cell_type": "code",
   "id": "1a50227f",
   "metadata": {
    "ExecuteTime": {
     "end_time": "2024-06-28T05:17:12.698394Z",
     "start_time": "2024-06-28T05:17:11.647932Z"
    }
   },
   "source": [
    "import pandas as pd\n",
    "import numpy as np\n",
    "import matplotlib.pyplot as plt\n",
    "import seaborn as sns\n",
    "from sklearn.model_selection import train_test_split\n",
    "from sklearn.linear_model import LinearRegression\n",
    "from sklearn.ensemble import RandomForestRegressor\n",
    "from xgboost import XGBRegressor\n",
    "from sklearn.metrics import mean_squared_error\n",
    "from sklearn.preprocessing import LabelEncoder\n",
    "import joblib\n",
    "import warnings"
   ],
   "outputs": [],
   "execution_count": 1
  },
  {
   "cell_type": "code",
   "id": "42cbd19b",
   "metadata": {
    "ExecuteTime": {
     "end_time": "2024-06-28T05:17:13.286303Z",
     "start_time": "2024-06-28T05:17:12.700392Z"
    }
   },
   "source": [
    "# Read the cleaned data\n",
    "df=pd.read_csv('vehicles3.csv')\n",
    "\n",
    "df"
   ],
   "outputs": [
    {
     "data": {
      "text/plain": [
       "        Unnamed: 0  price    year manufacturer                         model  \\\n",
       "0                0  33590  2014.0          gmc      sierra 1500 crew cab slt   \n",
       "1                1  22590  2010.0    chevrolet                silverado 1500   \n",
       "2                4  27990  2012.0          gmc   sierra 2500 hd extended cab   \n",
       "3               13  33590  2014.0       toyota     tundra crewmax sr5 pickup   \n",
       "4               28  24590  2013.0          gmc  sierra 1500 extended cab slt   \n",
       "...            ...    ...     ...          ...                           ...   \n",
       "146511      263661   7477  2012.0         fiat                           500   \n",
       "146512      263662   5477  2003.0       nissan                        murano   \n",
       "146513      263670  29590  2016.0       toyota     4runner sr5 sport utility   \n",
       "146514      263672  32990  2016.0     infiniti         qx80 sport utility 4d   \n",
       "146515      263675  13990  2016.0         ford         Scion iM Hatchback 4D   \n",
       "\n",
       "       condition  cylinders   fuel  odometer title_status transmission drive  \\\n",
       "0           good        8.0    gas   57923.0        clean        other   4wd   \n",
       "1           good        8.0    gas   71229.0        clean        other   4wd   \n",
       "2           good        8.0    gas   68696.0        clean        other   4wd   \n",
       "3           good        6.0  other   55251.0        clean        other   4wd   \n",
       "4           good        8.0  other   80318.0        clean        other   4wd   \n",
       "...          ...        ...    ...       ...          ...          ...   ...   \n",
       "146511      good        6.0    gas   64267.0        clean       manual   4wd   \n",
       "146512      good        6.0    gas  168055.0        clean    automatic   4wd   \n",
       "146513      good        6.0    gas   53475.0        clean    automatic   4wd   \n",
       "146514      good        8.0    gas   55612.0        clean    automatic   rwd   \n",
       "146515      good        6.0  other   75626.0        clean        other   fwd   \n",
       "\n",
       "                    type  paint_color   age  Mile_average   Mile_ratings  \\\n",
       "0       non-luxury_small  light color  10.0   5792.300000  below_average   \n",
       "1       non-luxury_small   dark color  14.0   5087.785714  below_average   \n",
       "2       non-luxury_small   dark color  12.0   5724.666667  below_average   \n",
       "3       non-luxury_small   dark color  10.0   5525.100000  below_average   \n",
       "4       non-luxury_small  light color  11.0   7301.636364  below_average   \n",
       "...                  ...          ...   ...           ...            ...   \n",
       "146511      Luxury_small  light color  12.0   5355.583333  below_average   \n",
       "146512      luxury_large   dark color  21.0   8002.619048  below_average   \n",
       "146513      luxury_large   dark color   8.0   6684.375000  below_average   \n",
       "146514      Luxury_small   dark color   8.0   6951.500000  below_average   \n",
       "146515      Luxury_small  light color   8.0   9453.250000  below_average   \n",
       "\n",
       "       Manufacturer_category  \n",
       "0                   American  \n",
       "1                   American  \n",
       "2                   American  \n",
       "3                   Japanese  \n",
       "4                   American  \n",
       "...                      ...  \n",
       "146511               Italian  \n",
       "146512              Japanese  \n",
       "146513              Japanese  \n",
       "146514              Japanese  \n",
       "146515              American  \n",
       "\n",
       "[146516 rows x 18 columns]"
      ],
      "text/html": [
       "<div>\n",
       "<style scoped>\n",
       "    .dataframe tbody tr th:only-of-type {\n",
       "        vertical-align: middle;\n",
       "    }\n",
       "\n",
       "    .dataframe tbody tr th {\n",
       "        vertical-align: top;\n",
       "    }\n",
       "\n",
       "    .dataframe thead th {\n",
       "        text-align: right;\n",
       "    }\n",
       "</style>\n",
       "<table border=\"1\" class=\"dataframe\">\n",
       "  <thead>\n",
       "    <tr style=\"text-align: right;\">\n",
       "      <th></th>\n",
       "      <th>Unnamed: 0</th>\n",
       "      <th>price</th>\n",
       "      <th>year</th>\n",
       "      <th>manufacturer</th>\n",
       "      <th>model</th>\n",
       "      <th>condition</th>\n",
       "      <th>cylinders</th>\n",
       "      <th>fuel</th>\n",
       "      <th>odometer</th>\n",
       "      <th>title_status</th>\n",
       "      <th>transmission</th>\n",
       "      <th>drive</th>\n",
       "      <th>type</th>\n",
       "      <th>paint_color</th>\n",
       "      <th>age</th>\n",
       "      <th>Mile_average</th>\n",
       "      <th>Mile_ratings</th>\n",
       "      <th>Manufacturer_category</th>\n",
       "    </tr>\n",
       "  </thead>\n",
       "  <tbody>\n",
       "    <tr>\n",
       "      <th>0</th>\n",
       "      <td>0</td>\n",
       "      <td>33590</td>\n",
       "      <td>2014.0</td>\n",
       "      <td>gmc</td>\n",
       "      <td>sierra 1500 crew cab slt</td>\n",
       "      <td>good</td>\n",
       "      <td>8.0</td>\n",
       "      <td>gas</td>\n",
       "      <td>57923.0</td>\n",
       "      <td>clean</td>\n",
       "      <td>other</td>\n",
       "      <td>4wd</td>\n",
       "      <td>non-luxury_small</td>\n",
       "      <td>light color</td>\n",
       "      <td>10.0</td>\n",
       "      <td>5792.300000</td>\n",
       "      <td>below_average</td>\n",
       "      <td>American</td>\n",
       "    </tr>\n",
       "    <tr>\n",
       "      <th>1</th>\n",
       "      <td>1</td>\n",
       "      <td>22590</td>\n",
       "      <td>2010.0</td>\n",
       "      <td>chevrolet</td>\n",
       "      <td>silverado 1500</td>\n",
       "      <td>good</td>\n",
       "      <td>8.0</td>\n",
       "      <td>gas</td>\n",
       "      <td>71229.0</td>\n",
       "      <td>clean</td>\n",
       "      <td>other</td>\n",
       "      <td>4wd</td>\n",
       "      <td>non-luxury_small</td>\n",
       "      <td>dark color</td>\n",
       "      <td>14.0</td>\n",
       "      <td>5087.785714</td>\n",
       "      <td>below_average</td>\n",
       "      <td>American</td>\n",
       "    </tr>\n",
       "    <tr>\n",
       "      <th>2</th>\n",
       "      <td>4</td>\n",
       "      <td>27990</td>\n",
       "      <td>2012.0</td>\n",
       "      <td>gmc</td>\n",
       "      <td>sierra 2500 hd extended cab</td>\n",
       "      <td>good</td>\n",
       "      <td>8.0</td>\n",
       "      <td>gas</td>\n",
       "      <td>68696.0</td>\n",
       "      <td>clean</td>\n",
       "      <td>other</td>\n",
       "      <td>4wd</td>\n",
       "      <td>non-luxury_small</td>\n",
       "      <td>dark color</td>\n",
       "      <td>12.0</td>\n",
       "      <td>5724.666667</td>\n",
       "      <td>below_average</td>\n",
       "      <td>American</td>\n",
       "    </tr>\n",
       "    <tr>\n",
       "      <th>3</th>\n",
       "      <td>13</td>\n",
       "      <td>33590</td>\n",
       "      <td>2014.0</td>\n",
       "      <td>toyota</td>\n",
       "      <td>tundra crewmax sr5 pickup</td>\n",
       "      <td>good</td>\n",
       "      <td>6.0</td>\n",
       "      <td>other</td>\n",
       "      <td>55251.0</td>\n",
       "      <td>clean</td>\n",
       "      <td>other</td>\n",
       "      <td>4wd</td>\n",
       "      <td>non-luxury_small</td>\n",
       "      <td>dark color</td>\n",
       "      <td>10.0</td>\n",
       "      <td>5525.100000</td>\n",
       "      <td>below_average</td>\n",
       "      <td>Japanese</td>\n",
       "    </tr>\n",
       "    <tr>\n",
       "      <th>4</th>\n",
       "      <td>28</td>\n",
       "      <td>24590</td>\n",
       "      <td>2013.0</td>\n",
       "      <td>gmc</td>\n",
       "      <td>sierra 1500 extended cab slt</td>\n",
       "      <td>good</td>\n",
       "      <td>8.0</td>\n",
       "      <td>other</td>\n",
       "      <td>80318.0</td>\n",
       "      <td>clean</td>\n",
       "      <td>other</td>\n",
       "      <td>4wd</td>\n",
       "      <td>non-luxury_small</td>\n",
       "      <td>light color</td>\n",
       "      <td>11.0</td>\n",
       "      <td>7301.636364</td>\n",
       "      <td>below_average</td>\n",
       "      <td>American</td>\n",
       "    </tr>\n",
       "    <tr>\n",
       "      <th>...</th>\n",
       "      <td>...</td>\n",
       "      <td>...</td>\n",
       "      <td>...</td>\n",
       "      <td>...</td>\n",
       "      <td>...</td>\n",
       "      <td>...</td>\n",
       "      <td>...</td>\n",
       "      <td>...</td>\n",
       "      <td>...</td>\n",
       "      <td>...</td>\n",
       "      <td>...</td>\n",
       "      <td>...</td>\n",
       "      <td>...</td>\n",
       "      <td>...</td>\n",
       "      <td>...</td>\n",
       "      <td>...</td>\n",
       "      <td>...</td>\n",
       "      <td>...</td>\n",
       "    </tr>\n",
       "    <tr>\n",
       "      <th>146511</th>\n",
       "      <td>263661</td>\n",
       "      <td>7477</td>\n",
       "      <td>2012.0</td>\n",
       "      <td>fiat</td>\n",
       "      <td>500</td>\n",
       "      <td>good</td>\n",
       "      <td>6.0</td>\n",
       "      <td>gas</td>\n",
       "      <td>64267.0</td>\n",
       "      <td>clean</td>\n",
       "      <td>manual</td>\n",
       "      <td>4wd</td>\n",
       "      <td>Luxury_small</td>\n",
       "      <td>light color</td>\n",
       "      <td>12.0</td>\n",
       "      <td>5355.583333</td>\n",
       "      <td>below_average</td>\n",
       "      <td>Italian</td>\n",
       "    </tr>\n",
       "    <tr>\n",
       "      <th>146512</th>\n",
       "      <td>263662</td>\n",
       "      <td>5477</td>\n",
       "      <td>2003.0</td>\n",
       "      <td>nissan</td>\n",
       "      <td>murano</td>\n",
       "      <td>good</td>\n",
       "      <td>6.0</td>\n",
       "      <td>gas</td>\n",
       "      <td>168055.0</td>\n",
       "      <td>clean</td>\n",
       "      <td>automatic</td>\n",
       "      <td>4wd</td>\n",
       "      <td>luxury_large</td>\n",
       "      <td>dark color</td>\n",
       "      <td>21.0</td>\n",
       "      <td>8002.619048</td>\n",
       "      <td>below_average</td>\n",
       "      <td>Japanese</td>\n",
       "    </tr>\n",
       "    <tr>\n",
       "      <th>146513</th>\n",
       "      <td>263670</td>\n",
       "      <td>29590</td>\n",
       "      <td>2016.0</td>\n",
       "      <td>toyota</td>\n",
       "      <td>4runner sr5 sport utility</td>\n",
       "      <td>good</td>\n",
       "      <td>6.0</td>\n",
       "      <td>gas</td>\n",
       "      <td>53475.0</td>\n",
       "      <td>clean</td>\n",
       "      <td>automatic</td>\n",
       "      <td>4wd</td>\n",
       "      <td>luxury_large</td>\n",
       "      <td>dark color</td>\n",
       "      <td>8.0</td>\n",
       "      <td>6684.375000</td>\n",
       "      <td>below_average</td>\n",
       "      <td>Japanese</td>\n",
       "    </tr>\n",
       "    <tr>\n",
       "      <th>146514</th>\n",
       "      <td>263672</td>\n",
       "      <td>32990</td>\n",
       "      <td>2016.0</td>\n",
       "      <td>infiniti</td>\n",
       "      <td>qx80 sport utility 4d</td>\n",
       "      <td>good</td>\n",
       "      <td>8.0</td>\n",
       "      <td>gas</td>\n",
       "      <td>55612.0</td>\n",
       "      <td>clean</td>\n",
       "      <td>automatic</td>\n",
       "      <td>rwd</td>\n",
       "      <td>Luxury_small</td>\n",
       "      <td>dark color</td>\n",
       "      <td>8.0</td>\n",
       "      <td>6951.500000</td>\n",
       "      <td>below_average</td>\n",
       "      <td>Japanese</td>\n",
       "    </tr>\n",
       "    <tr>\n",
       "      <th>146515</th>\n",
       "      <td>263675</td>\n",
       "      <td>13990</td>\n",
       "      <td>2016.0</td>\n",
       "      <td>ford</td>\n",
       "      <td>Scion iM Hatchback 4D</td>\n",
       "      <td>good</td>\n",
       "      <td>6.0</td>\n",
       "      <td>other</td>\n",
       "      <td>75626.0</td>\n",
       "      <td>clean</td>\n",
       "      <td>other</td>\n",
       "      <td>fwd</td>\n",
       "      <td>Luxury_small</td>\n",
       "      <td>light color</td>\n",
       "      <td>8.0</td>\n",
       "      <td>9453.250000</td>\n",
       "      <td>below_average</td>\n",
       "      <td>American</td>\n",
       "    </tr>\n",
       "  </tbody>\n",
       "</table>\n",
       "<p>146516 rows × 18 columns</p>\n",
       "</div>"
      ]
     },
     "execution_count": 2,
     "metadata": {},
     "output_type": "execute_result"
    }
   ],
   "execution_count": 2
  },
  {
   "cell_type": "code",
   "id": "b5c2ef19",
   "metadata": {
    "ExecuteTime": {
     "end_time": "2024-06-28T05:17:13.334309Z",
     "start_time": "2024-06-28T05:17:13.293310Z"
    }
   },
   "source": [
    "df=df.drop('Unnamed: 0', axis=1)"
   ],
   "outputs": [],
   "execution_count": 3
  },
  {
   "cell_type": "code",
   "id": "5377e0eb",
   "metadata": {
    "ExecuteTime": {
     "end_time": "2024-06-28T05:17:13.446315Z",
     "start_time": "2024-06-28T05:17:13.342315Z"
    }
   },
   "source": [
    "df.describe()"
   ],
   "outputs": [
    {
     "data": {
      "text/plain": [
       "               price           year      cylinders       odometer  \\\n",
       "count  146516.000000  146516.000000  146207.000000  146516.000000   \n",
       "mean    17851.038781    2011.567208       5.970802  111210.973197   \n",
       "std     12246.151696       5.517643       1.247726   47572.633575   \n",
       "min      1000.000000    1905.000000       3.000000   45000.000000   \n",
       "25%      8950.000000    2009.000000       6.000000   74337.000000   \n",
       "50%     14900.000000    2013.000000       6.000000  102730.000000   \n",
       "75%     23995.000000    2015.000000       6.000000  138953.000000   \n",
       "max    195000.000000    2022.000000      12.000000  500000.000000   \n",
       "\n",
       "                 age   Mile_average  \n",
       "count  146516.000000  146516.000000  \n",
       "mean       12.432792    9560.359951  \n",
       "std         5.517643    3827.948645  \n",
       "min         2.000000     505.425532  \n",
       "25%         9.000000    7039.364583  \n",
       "50%        11.000000    9034.166667  \n",
       "75%        15.000000   11426.976136  \n",
       "max       119.000000  103917.000000  "
      ],
      "text/html": [
       "<div>\n",
       "<style scoped>\n",
       "    .dataframe tbody tr th:only-of-type {\n",
       "        vertical-align: middle;\n",
       "    }\n",
       "\n",
       "    .dataframe tbody tr th {\n",
       "        vertical-align: top;\n",
       "    }\n",
       "\n",
       "    .dataframe thead th {\n",
       "        text-align: right;\n",
       "    }\n",
       "</style>\n",
       "<table border=\"1\" class=\"dataframe\">\n",
       "  <thead>\n",
       "    <tr style=\"text-align: right;\">\n",
       "      <th></th>\n",
       "      <th>price</th>\n",
       "      <th>year</th>\n",
       "      <th>cylinders</th>\n",
       "      <th>odometer</th>\n",
       "      <th>age</th>\n",
       "      <th>Mile_average</th>\n",
       "    </tr>\n",
       "  </thead>\n",
       "  <tbody>\n",
       "    <tr>\n",
       "      <th>count</th>\n",
       "      <td>146516.000000</td>\n",
       "      <td>146516.000000</td>\n",
       "      <td>146207.000000</td>\n",
       "      <td>146516.000000</td>\n",
       "      <td>146516.000000</td>\n",
       "      <td>146516.000000</td>\n",
       "    </tr>\n",
       "    <tr>\n",
       "      <th>mean</th>\n",
       "      <td>17851.038781</td>\n",
       "      <td>2011.567208</td>\n",
       "      <td>5.970802</td>\n",
       "      <td>111210.973197</td>\n",
       "      <td>12.432792</td>\n",
       "      <td>9560.359951</td>\n",
       "    </tr>\n",
       "    <tr>\n",
       "      <th>std</th>\n",
       "      <td>12246.151696</td>\n",
       "      <td>5.517643</td>\n",
       "      <td>1.247726</td>\n",
       "      <td>47572.633575</td>\n",
       "      <td>5.517643</td>\n",
       "      <td>3827.948645</td>\n",
       "    </tr>\n",
       "    <tr>\n",
       "      <th>min</th>\n",
       "      <td>1000.000000</td>\n",
       "      <td>1905.000000</td>\n",
       "      <td>3.000000</td>\n",
       "      <td>45000.000000</td>\n",
       "      <td>2.000000</td>\n",
       "      <td>505.425532</td>\n",
       "    </tr>\n",
       "    <tr>\n",
       "      <th>25%</th>\n",
       "      <td>8950.000000</td>\n",
       "      <td>2009.000000</td>\n",
       "      <td>6.000000</td>\n",
       "      <td>74337.000000</td>\n",
       "      <td>9.000000</td>\n",
       "      <td>7039.364583</td>\n",
       "    </tr>\n",
       "    <tr>\n",
       "      <th>50%</th>\n",
       "      <td>14900.000000</td>\n",
       "      <td>2013.000000</td>\n",
       "      <td>6.000000</td>\n",
       "      <td>102730.000000</td>\n",
       "      <td>11.000000</td>\n",
       "      <td>9034.166667</td>\n",
       "    </tr>\n",
       "    <tr>\n",
       "      <th>75%</th>\n",
       "      <td>23995.000000</td>\n",
       "      <td>2015.000000</td>\n",
       "      <td>6.000000</td>\n",
       "      <td>138953.000000</td>\n",
       "      <td>15.000000</td>\n",
       "      <td>11426.976136</td>\n",
       "    </tr>\n",
       "    <tr>\n",
       "      <th>max</th>\n",
       "      <td>195000.000000</td>\n",
       "      <td>2022.000000</td>\n",
       "      <td>12.000000</td>\n",
       "      <td>500000.000000</td>\n",
       "      <td>119.000000</td>\n",
       "      <td>103917.000000</td>\n",
       "    </tr>\n",
       "  </tbody>\n",
       "</table>\n",
       "</div>"
      ]
     },
     "execution_count": 4,
     "metadata": {},
     "output_type": "execute_result"
    }
   ],
   "execution_count": 4
  },
  {
   "cell_type": "code",
   "id": "61ac2268",
   "metadata": {
    "ExecuteTime": {
     "end_time": "2024-06-28T05:17:13.558323Z",
     "start_time": "2024-06-28T05:17:13.449316Z"
    }
   },
   "source": [
    "df.info()"
   ],
   "outputs": [
    {
     "name": "stdout",
     "output_type": "stream",
     "text": [
      "<class 'pandas.core.frame.DataFrame'>\n",
      "RangeIndex: 146516 entries, 0 to 146515\n",
      "Data columns (total 17 columns):\n",
      " #   Column                 Non-Null Count   Dtype  \n",
      "---  ------                 --------------   -----  \n",
      " 0   price                  146516 non-null  int64  \n",
      " 1   year                   146516 non-null  float64\n",
      " 2   manufacturer           146516 non-null  object \n",
      " 3   model                  146516 non-null  object \n",
      " 4   condition              146516 non-null  object \n",
      " 5   cylinders              146207 non-null  float64\n",
      " 6   fuel                   146516 non-null  object \n",
      " 7   odometer               146516 non-null  float64\n",
      " 8   title_status           146516 non-null  object \n",
      " 9   transmission           146516 non-null  object \n",
      " 10  drive                  146516 non-null  object \n",
      " 11  type                   146516 non-null  object \n",
      " 12  paint_color            146516 non-null  object \n",
      " 13  age                    146516 non-null  float64\n",
      " 14  Mile_average           146516 non-null  float64\n",
      " 15  Mile_ratings           146516 non-null  object \n",
      " 16  Manufacturer_category  146516 non-null  object \n",
      "dtypes: float64(5), int64(1), object(11)\n",
      "memory usage: 19.0+ MB\n"
     ]
    }
   ],
   "execution_count": 5
  },
  {
   "cell_type": "code",
   "id": "21dfe8d5",
   "metadata": {
    "ExecuteTime": {
     "end_time": "2024-06-28T05:17:13.652333Z",
     "start_time": "2024-06-28T05:17:13.561326Z"
    }
   },
   "source": [
    "df.isna().sum()"
   ],
   "outputs": [
    {
     "data": {
      "text/plain": [
       "price                      0\n",
       "year                       0\n",
       "manufacturer               0\n",
       "model                      0\n",
       "condition                  0\n",
       "cylinders                309\n",
       "fuel                       0\n",
       "odometer                   0\n",
       "title_status               0\n",
       "transmission               0\n",
       "drive                      0\n",
       "type                       0\n",
       "paint_color                0\n",
       "age                        0\n",
       "Mile_average               0\n",
       "Mile_ratings               0\n",
       "Manufacturer_category      0\n",
       "dtype: int64"
      ]
     },
     "execution_count": 6,
     "metadata": {},
     "output_type": "execute_result"
    }
   ],
   "execution_count": 6
  },
  {
   "cell_type": "code",
   "id": "86ad98db",
   "metadata": {
    "ExecuteTime": {
     "end_time": "2024-06-28T05:17:13.715336Z",
     "start_time": "2024-06-28T05:17:13.656336Z"
    }
   },
   "source": [
    "df.dropna(subset=['cylinders'], inplace=True)"
   ],
   "outputs": [],
   "execution_count": 7
  },
  {
   "cell_type": "code",
   "id": "7f195118",
   "metadata": {
    "ExecuteTime": {
     "end_time": "2024-06-28T05:17:13.807346Z",
     "start_time": "2024-06-28T05:17:13.718345Z"
    }
   },
   "source": [
    "df.isna().sum()"
   ],
   "outputs": [
    {
     "data": {
      "text/plain": [
       "price                    0\n",
       "year                     0\n",
       "manufacturer             0\n",
       "model                    0\n",
       "condition                0\n",
       "cylinders                0\n",
       "fuel                     0\n",
       "odometer                 0\n",
       "title_status             0\n",
       "transmission             0\n",
       "drive                    0\n",
       "type                     0\n",
       "paint_color              0\n",
       "age                      0\n",
       "Mile_average             0\n",
       "Mile_ratings             0\n",
       "Manufacturer_category    0\n",
       "dtype: int64"
      ]
     },
     "execution_count": 8,
     "metadata": {},
     "output_type": "execute_result"
    }
   ],
   "execution_count": 8
  },
  {
   "cell_type": "code",
   "id": "fc103534",
   "metadata": {
    "ExecuteTime": {
     "end_time": "2024-06-28T05:17:17.111264Z",
     "start_time": "2024-06-28T05:17:13.813346Z"
    }
   },
   "source": [
    "# EDA\n",
    "# Distribution of Mile_average\n",
    "plt.figure(figsize=(10, 6))\n",
    "sns.histplot(df['Mile_average'], kde=True, bins=30)\n",
    "plt.title('Distribution of Mile Average')\n",
    "plt.xlabel('Mile Average')\n",
    "plt.ylabel('Frequency')\n",
    "plt.show()"
   ],
   "outputs": [
    {
     "data": {
      "text/plain": [
       "<Figure size 1000x600 with 1 Axes>"
      ],
      "image/png": "[encoded data removed]"
     },
     "metadata": {},
     "output_type": "display_data"
    }
   ],
   "execution_count": 9
  },
  {
   "cell_type": "code",
   "id": "a26feafa",
   "metadata": {
    "ExecuteTime": {
     "end_time": "2024-06-28T05:17:17.477293Z",
     "start_time": "2024-06-28T05:17:17.114270Z"
    }
   },
   "source": [
    "# Count plot for Mile_ratings\n",
    "plt.figure(figsize=(10, 6))\n",
    "sns.countplot(x='Mile_ratings', data=df)\n",
    "plt.title('Distribution of Mile Ratings')\n",
    "plt.xlabel('Mile Ratings')\n",
    "plt.ylabel('Count')\n",
    "plt.show()"
   ],
   "outputs": [
    {
     "data": {
      "text/plain": [
       "<Figure size 1000x600 with 1 Axes>"
      ],
      "image/png": "[encoded data removed]"
     },
     "metadata": {},
     "output_type": "display_data"
    }
   ],
   "execution_count": 10
  },
  {
   "cell_type": "code",
   "id": "5ad57616",
   "metadata": {
    "ExecuteTime": {
     "end_time": "2024-06-28T05:17:18.015336Z",
     "start_time": "2024-06-28T05:17:17.480293Z"
    }
   },
   "source": [
    "# Preprocessing\n",
    "\n",
    "# Initialize the label encoder\n",
    "label_encoder = LabelEncoder()\n",
    "\n",
    "# Select columns to encode\n",
    "text_columns = df.select_dtypes(include=['object']).columns\n",
    "\n",
    "# Apply label encoding to each column\n",
    "for col in text_columns:\n",
    "    df[col] = label_encoder.fit_transform(df[col])\n",
    "\n",
    "# Check the result\n",
    "df.head()"
   ],
   "outputs": [
    {
     "data": {
      "text/plain": [
       "   price    year  manufacturer  model  condition  cylinders  fuel  odometer  \\\n",
       "0  33590  2014.0            13   9889          2        8.0     2   57923.0   \n",
       "1  22590  2010.0             6  10094          2        8.0     2   71229.0   \n",
       "2  27990  2012.0            13   9960          2        8.0     2   68696.0   \n",
       "3  33590  2014.0            37  11564          2        6.0     4   55251.0   \n",
       "4  24590  2013.0            13   9900          2        8.0     4   80318.0   \n",
       "\n",
       "   title_status  transmission  drive  type  paint_color   age  Mile_average  \\\n",
       "0             0             2      0     3            1  10.0   5792.300000   \n",
       "1             0             2      0     3            0  14.0   5087.785714   \n",
       "2             0             2      0     3            0  12.0   5724.666667   \n",
       "3             0             2      0     3            0  10.0   5525.100000   \n",
       "4             0             2      0     3            1  11.0   7301.636364   \n",
       "\n",
       "   Mile_ratings  Manufacturer_category  \n",
       "0             1                      0  \n",
       "1             1                      0  \n",
       "2             1                      0  \n",
       "3             1                      4  \n",
       "4             1                      0  "
      ],
      "text/html": [
       "<div>\n",
       "<style scoped>\n",
       "    .dataframe tbody tr th:only-of-type {\n",
       "        vertical-align: middle;\n",
       "    }\n",
       "\n",
       "    .dataframe tbody tr th {\n",
       "        vertical-align: top;\n",
       "    }\n",
       "\n",
       "    .dataframe thead th {\n",
       "        text-align: right;\n",
       "    }\n",
       "</style>\n",
       "<table border=\"1\" class=\"dataframe\">\n",
       "  <thead>\n",
       "    <tr style=\"text-align: right;\">\n",
       "      <th></th>\n",
       "      <th>price</th>\n",
       "      <th>year</th>\n",
       "      <th>manufacturer</th>\n",
       "      <th>model</th>\n",
       "      <th>condition</th>\n",
       "      <th>cylinders</th>\n",
       "      <th>fuel</th>\n",
       "      <th>odometer</th>\n",
       "      <th>title_status</th>\n",
       "      <th>transmission</th>\n",
       "      <th>drive</th>\n",
       "      <th>type</th>\n",
       "      <th>paint_color</th>\n",
       "      <th>age</th>\n",
       "      <th>Mile_average</th>\n",
       "      <th>Mile_ratings</th>\n",
       "      <th>Manufacturer_category</th>\n",
       "    </tr>\n",
       "  </thead>\n",
       "  <tbody>\n",
       "    <tr>\n",
       "      <th>0</th>\n",
       "      <td>33590</td>\n",
       "      <td>2014.0</td>\n",
       "      <td>13</td>\n",
       "      <td>9889</td>\n",
       "      <td>2</td>\n",
       "      <td>8.0</td>\n",
       "      <td>2</td>\n",
       "      <td>57923.0</td>\n",
       "      <td>0</td>\n",
       "      <td>2</td>\n",
       "      <td>0</td>\n",
       "      <td>3</td>\n",
       "      <td>1</td>\n",
       "      <td>10.0</td>\n",
       "      <td>5792.300000</td>\n",
       "      <td>1</td>\n",
       "      <td>0</td>\n",
       "    </tr>\n",
       "    <tr>\n",
       "      <th>1</th>\n",
       "      <td>22590</td>\n",
       "      <td>2010.0</td>\n",
       "      <td>6</td>\n",
       "      <td>10094</td>\n",
       "      <td>2</td>\n",
       "      <td>8.0</td>\n",
       "      <td>2</td>\n",
       "      <td>71229.0</td>\n",
       "      <td>0</td>\n",
       "      <td>2</td>\n",
       "      <td>0</td>\n",
       "      <td>3</td>\n",
       "      <td>0</td>\n",
       "      <td>14.0</td>\n",
       "      <td>5087.785714</td>\n",
       "      <td>1</td>\n",
       "      <td>0</td>\n",
       "    </tr>\n",
       "    <tr>\n",
       "      <th>2</th>\n",
       "      <td>27990</td>\n",
       "      <td>2012.0</td>\n",
       "      <td>13</td>\n",
       "      <td>9960</td>\n",
       "      <td>2</td>\n",
       "      <td>8.0</td>\n",
       "      <td>2</td>\n",
       "      <td>68696.0</td>\n",
       "      <td>0</td>\n",
       "      <td>2</td>\n",
       "      <td>0</td>\n",
       "      <td>3</td>\n",
       "      <td>0</td>\n",
       "      <td>12.0</td>\n",
       "      <td>5724.666667</td>\n",
       "      <td>1</td>\n",
       "      <td>0</td>\n",
       "    </tr>\n",
       "    <tr>\n",
       "      <th>3</th>\n",
       "      <td>33590</td>\n",
       "      <td>2014.0</td>\n",
       "      <td>37</td>\n",
       "      <td>11564</td>\n",
       "      <td>2</td>\n",
       "      <td>6.0</td>\n",
       "      <td>4</td>\n",
       "      <td>55251.0</td>\n",
       "      <td>0</td>\n",
       "      <td>2</td>\n",
       "      <td>0</td>\n",
       "      <td>3</td>\n",
       "      <td>0</td>\n",
       "      <td>10.0</td>\n",
       "      <td>5525.100000</td>\n",
       "      <td>1</td>\n",
       "      <td>4</td>\n",
       "    </tr>\n",
       "    <tr>\n",
       "      <th>4</th>\n",
       "      <td>24590</td>\n",
       "      <td>2013.0</td>\n",
       "      <td>13</td>\n",
       "      <td>9900</td>\n",
       "      <td>2</td>\n",
       "      <td>8.0</td>\n",
       "      <td>4</td>\n",
       "      <td>80318.0</td>\n",
       "      <td>0</td>\n",
       "      <td>2</td>\n",
       "      <td>0</td>\n",
       "      <td>3</td>\n",
       "      <td>1</td>\n",
       "      <td>11.0</td>\n",
       "      <td>7301.636364</td>\n",
       "      <td>1</td>\n",
       "      <td>0</td>\n",
       "    </tr>\n",
       "  </tbody>\n",
       "</table>\n",
       "</div>"
      ]
     },
     "execution_count": 11,
     "metadata": {},
     "output_type": "execute_result"
    }
   ],
   "execution_count": 11
  },
  {
   "cell_type": "code",
   "id": "66dec548",
   "metadata": {
    "ExecuteTime": {
     "end_time": "2024-06-28T05:17:18.047337Z",
     "start_time": "2024-06-28T05:17:18.023344Z"
    }
   },
   "source": [
    "# Prepare features and target variable\n",
    "x = df.drop(['price'], axis=1)\n",
    "y = df['price']\n"
   ],
   "outputs": [],
   "execution_count": 12
  },
  {
   "cell_type": "code",
   "id": "9a36bb4b",
   "metadata": {
    "ExecuteTime": {
     "end_time": "2024-06-28T05:17:18.127343Z",
     "start_time": "2024-06-28T05:17:18.052342Z"
    }
   },
   "source": [
    "# Split the data\n",
    "x_train, x_test, y_train, y_test = train_test_split(x, y, train_size=0.8, random_state=12345)"
   ],
   "outputs": [],
   "execution_count": 13
  },
  {
   "cell_type": "code",
   "id": "bb94f89a",
   "metadata": {
    "ExecuteTime": {
     "end_time": "2024-06-28T05:17:18.347358Z",
     "start_time": "2024-06-28T05:17:18.130344Z"
    }
   },
   "source": [
    "# Creating the model\n",
    "\n",
    "model=LinearRegression()\n",
    "\n",
    "# Fit the model\n",
    "model.fit(x_train, y_train)"
   ],
   "outputs": [
    {
     "data": {
      "text/plain": [
       "LinearRegression()"
      ],
      "text/html": [
       "<style>#sk-container-id-1 {color: black;background-color: white;}#sk-container-id-1 pre{padding: 0;}#sk-container-id-1 div.sk-toggleable {background-color: white;}#sk-container-id-1 label.sk-toggleable__label {cursor: pointer;display: block;width: 100%;margin-bottom: 0;padding: 0.3em;box-sizing: border-box;text-align: center;}#sk-container-id-1 label.sk-toggleable__label-arrow:before {content: \"▸\";float: left;margin-right: 0.25em;color: #696969;}#sk-container-id-1 label.sk-toggleable__label-arrow:hover:before {color: black;}#sk-container-id-1 div.sk-estimator:hover label.sk-toggleable__label-arrow:before {color: black;}#sk-container-id-1 div.sk-toggleable__content {max-height: 0;max-width: 0;overflow: hidden;text-align: left;background-color: #f0f8ff;}#sk-container-id-1 div.sk-toggleable__content pre {margin: 0.2em;color: black;border-radius: 0.25em;background-color: #f0f8ff;}#sk-container-id-1 input.sk-toggleable__control:checked~div.sk-toggleable__content {max-height: 200px;max-width: 100%;overflow: auto;}#sk-container-id-1 input.sk-toggleable__control:checked~label.sk-toggleable__label-arrow:before {content: \"▾\";}#sk-container-id-1 div.sk-estimator input.sk-toggleable__control:checked~label.sk-toggleable__label {background-color: #d4ebff;}#sk-container-id-1 div.sk-label input.sk-toggleable__control:checked~label.sk-toggleable__label {background-color: #d4ebff;}#sk-container-id-1 input.sk-hidden--visually {border: 0;clip: rect(1px 1px 1px 1px);clip: rect(1px, 1px, 1px, 1px);height: 1px;margin: -1px;overflow: hidden;padding: 0;position: absolute;width: 1px;}#sk-container-id-1 div.sk-estimator {font-family: monospace;background-color: #f0f8ff;border: 1px dotted black;border-radius: 0.25em;box-sizing: border-box;margin-bottom: 0.5em;}#sk-container-id-1 div.sk-estimator:hover {background-color: #d4ebff;}#sk-container-id-1 div.sk-parallel-item::after {content: \"\";width: 100%;border-bottom: 1px solid gray;flex-grow: 1;}#sk-container-id-1 div.sk-label:hover label.sk-toggleable__label {background-color: #d4ebff;}#sk-container-id-1 div.sk-serial::before {content: \"\";position: absolute;border-left: 1px solid gray;box-sizing: border-box;top: 0;bottom: 0;left: 50%;z-index: 0;}#sk-container-id-1 div.sk-serial {display: flex;flex-direction: column;align-items: center;background-color: white;padding-right: 0.2em;padding-left: 0.2em;position: relative;}#sk-container-id-1 div.sk-item {position: relative;z-index: 1;}#sk-container-id-1 div.sk-parallel {display: flex;align-items: stretch;justify-content: center;background-color: white;position: relative;}#sk-container-id-1 div.sk-item::before, #sk-container-id-1 div.sk-parallel-item::before {content: \"\";position: absolute;border-left: 1px solid gray;box-sizing: border-box;top: 0;bottom: 0;left: 50%;z-index: -1;}#sk-container-id-1 div.sk-parallel-item {display: flex;flex-direction: column;z-index: 1;position: relative;background-color: white;}#sk-container-id-1 div.sk-parallel-item:first-child::after {align-self: flex-end;width: 50%;}#sk-container-id-1 div.sk-parallel-item:last-child::after {align-self: flex-start;width: 50%;}#sk-container-id-1 div.sk-parallel-item:only-child::after {width: 0;}#sk-container-id-1 div.sk-dashed-wrapped {border: 1px dashed gray;margin: 0 0.4em 0.5em 0.4em;box-sizing: border-box;padding-bottom: 0.4em;background-color: white;}#sk-container-id-1 div.sk-label label {font-family: monospace;font-weight: bold;display: inline-block;line-height: 1.2em;}#sk-container-id-1 div.sk-label-container {text-align: center;}#sk-container-id-1 div.sk-container {/* jupyter's `normalize.less` sets `[hidden] { display: none; }` but bootstrap.min.css set `[hidden] { display: none !important; }` so we also need the `!important` here to be able to override the default hidden behavior on the sphinx rendered scikit-learn.org. See: https://github.com/scikit-learn/scikit-learn/issues/21755 */display: inline-block !important;position: relative;}#sk-container-id-1 div.sk-text-repr-fallback {display: none;}</style><div id=\"sk-container-id-1\" class=\"sk-top-container\"><div class=\"sk-text-repr-fallback\"><pre>LinearRegression()</pre><b>In a Jupyter environment, please rerun this cell to show the HTML representation or trust the notebook. <br />On GitHub, the HTML representation is unable to render, please try loading this page with nbviewer.org.</b></div><div class=\"sk-container\" hidden><div class=\"sk-item\"><div class=\"sk-estimator sk-toggleable\"><input class=\"sk-toggleable__control sk-hidden--visually\" id=\"sk-estimator-id-1\" type=\"checkbox\" checked><label for=\"sk-estimator-id-1\" class=\"sk-toggleable__label sk-toggleable__label-arrow\">LinearRegression</label><div class=\"sk-toggleable__content\"><pre>LinearRegression()</pre></div></div></div></div></div>"
      ]
     },
     "execution_count": 14,
     "metadata": {},
     "output_type": "execute_result"
    }
   ],
   "execution_count": 14
  },
  {
   "cell_type": "code",
   "id": "d7d3bb3e",
   "metadata": {
    "ExecuteTime": {
     "end_time": "2024-06-28T05:17:18.378360Z",
     "start_time": "2024-06-28T05:17:18.350360Z"
    }
   },
   "source": [
    "y_prediction= model.predict(x_test)\n"
   ],
   "outputs": [],
   "execution_count": 15
  },
  {
   "cell_type": "code",
   "id": "818af7d8",
   "metadata": {
    "ExecuteTime": {
     "end_time": "2024-06-28T05:17:18.410362Z",
     "start_time": "2024-06-28T05:17:18.381360Z"
    }
   },
   "source": [
    "from sklearn.metrics import mean_absolute_percentage_error, r2_score\n",
    "\n",
    "# Calculate MSE\n",
    "mse = mean_squared_error(y_test, y_prediction)\n",
    "\n",
    "# Calculate RMSE\n",
    "rmse = np.sqrt(mse)\n",
    "\n",
    "# Calculate MAPE\n",
    "mape = mean_absolute_percentage_error(y_test, y_prediction)\n",
    "\n",
    "# Calculate r2 score\n",
    "r2 = r2_score(y_test,y_prediction)\n",
    "\n",
    "# Print the evaluation metrics\n",
    "print(f'MSE: {mse}')\n",
    "print(f'RMSE: {rmse}')\n",
    "print(f'MAPE: {mape}')\n",
    "print(f'r2_score: {r2}')"
   ],
   "outputs": [
    {
     "name": "stdout",
     "output_type": "stream",
     "text": [
      "MSE: 69401386.12823519\n",
      "RMSE: 8330.74943376856\n",
      "MAPE: 0.49237351087802195\n",
      "r2_score: 0.5329087873973222\n"
     ]
    }
   ],
   "execution_count": 16
  },
  {
   "cell_type": "code",
   "id": "5646e103",
   "metadata": {
    "ExecuteTime": {
     "end_time": "2024-06-28T05:17:19.514446Z",
     "start_time": "2024-06-28T05:17:18.412364Z"
    }
   },
   "source": [
    "# Creating the 2nd model\n",
    "\n",
    "model=XGBRegressor()\n",
    "\n",
    "# Fit the model\n",
    "model.fit(x_train, y_train)"
   ],
   "outputs": [
    {
     "data": {
      "text/plain": [
       "XGBRegressor(base_score=None, booster=None, callbacks=None,\n",
       "             colsample_bylevel=None, colsample_bynode=None,\n",
       "             colsample_bytree=None, device=None, early_stopping_rounds=None,\n",
       "             enable_categorical=False, eval_metric=None, feature_types=None,\n",
       "             gamma=None, grow_policy=None, importance_type=None,\n",
       "             interaction_constraints=None, learning_rate=None, max_bin=None,\n",
       "             max_cat_threshold=None, max_cat_to_onehot=None,\n",
       "             max_delta_step=None, max_depth=None, max_leaves=None,\n",
       "             min_child_weight=None, missing=nan, monotone_constraints=None,\n",
       "             multi_strategy=None, n_estimators=None, n_jobs=None,\n",
       "             num_parallel_tree=None, random_state=None, ...)"
      ],
      "text/html": [
       "<style>#sk-container-id-2 {color: black;background-color: white;}#sk-container-id-2 pre{padding: 0;}#sk-container-id-2 div.sk-toggleable {background-color: white;}#sk-container-id-2 label.sk-toggleable__label {cursor: pointer;display: block;width: 100%;margin-bottom: 0;padding: 0.3em;box-sizing: border-box;text-align: center;}#sk-container-id-2 label.sk-toggleable__label-arrow:before {content: \"▸\";float: left;margin-right: 0.25em;color: #696969;}#sk-container-id-2 label.sk-toggleable__label-arrow:hover:before {color: black;}#sk-container-id-2 div.sk-estimator:hover label.sk-toggleable__label-arrow:before {color: black;}#sk-container-id-2 div.sk-toggleable__content {max-height: 0;max-width: 0;overflow: hidden;text-align: left;background-color: #f0f8ff;}#sk-container-id-2 div.sk-toggleable__content pre {margin: 0.2em;color: black;border-radius: 0.25em;background-color: #f0f8ff;}#sk-container-id-2 input.sk-toggleable__control:checked~div.sk-toggleable__content {max-height: 200px;max-width: 100%;overflow: auto;}#sk-container-id-2 input.sk-toggleable__control:checked~label.sk-toggleable__label-arrow:before {content: \"▾\";}#sk-container-id-2 div.sk-estimator input.sk-toggleable__control:checked~label.sk-toggleable__label {background-color: #d4ebff;}#sk-container-id-2 div.sk-label input.sk-toggleable__control:checked~label.sk-toggleable__label {background-color: #d4ebff;}#sk-container-id-2 input.sk-hidden--visually {border: 0;clip: rect(1px 1px 1px 1px);clip: rect(1px, 1px, 1px, 1px);height: 1px;margin: -1px;overflow: hidden;padding: 0;position: absolute;width: 1px;}#sk-container-id-2 div.sk-estimator {font-family: monospace;background-color: #f0f8ff;border: 1px dotted black;border-radius: 0.25em;box-sizing: border-box;margin-bottom: 0.5em;}#sk-container-id-2 div.sk-estimator:hover {background-color: #d4ebff;}#sk-container-id-2 div.sk-parallel-item::after {content: \"\";width: 100%;border-bottom: 1px solid gray;flex-grow: 1;}#sk-container-id-2 div.sk-label:hover label.sk-toggleable__label {background-color: #d4ebff;}#sk-container-id-2 div.sk-serial::before {content: \"\";position: absolute;border-left: 1px solid gray;box-sizing: border-box;top: 0;bottom: 0;left: 50%;z-index: 0;}#sk-container-id-2 div.sk-serial {display: flex;flex-direction: column;align-items: center;background-color: white;padding-right: 0.2em;padding-left: 0.2em;position: relative;}#sk-container-id-2 div.sk-item {position: relative;z-index: 1;}#sk-container-id-2 div.sk-parallel {display: flex;align-items: stretch;justify-content: center;background-color: white;position: relative;}#sk-container-id-2 div.sk-item::before, #sk-container-id-2 div.sk-parallel-item::before {content: \"\";position: absolute;border-left: 1px solid gray;box-sizing: border-box;top: 0;bottom: 0;left: 50%;z-index: -1;}#sk-container-id-2 div.sk-parallel-item {display: flex;flex-direction: column;z-index: 1;position: relative;background-color: white;}#sk-container-id-2 div.sk-parallel-item:first-child::after {align-self: flex-end;width: 50%;}#sk-container-id-2 div.sk-parallel-item:last-child::after {align-self: flex-start;width: 50%;}#sk-container-id-2 div.sk-parallel-item:only-child::after {width: 0;}#sk-container-id-2 div.sk-dashed-wrapped {border: 1px dashed gray;margin: 0 0.4em 0.5em 0.4em;box-sizing: border-box;padding-bottom: 0.4em;background-color: white;}#sk-container-id-2 div.sk-label label {font-family: monospace;font-weight: bold;display: inline-block;line-height: 1.2em;}#sk-container-id-2 div.sk-label-container {text-align: center;}#sk-container-id-2 div.sk-container {/* jupyter's `normalize.less` sets `[hidden] { display: none; }` but bootstrap.min.css set `[hidden] { display: none !important; }` so we also need the `!important` here to be able to override the default hidden behavior on the sphinx rendered scikit-learn.org. See: https://github.com/scikit-learn/scikit-learn/issues/21755 */display: inline-block !important;position: relative;}#sk-container-id-2 div.sk-text-repr-fallback {display: none;}</style><div id=\"sk-container-id-2\" class=\"sk-top-container\"><div class=\"sk-text-repr-fallback\"><pre>XGBRegressor(base_score=None, booster=None, callbacks=None,\n",
       "             colsample_bylevel=None, colsample_bynode=None,\n",
       "             colsample_bytree=None, device=None, early_stopping_rounds=None,\n",
       "             enable_categorical=False, eval_metric=None, feature_types=None,\n",
       "             gamma=None, grow_policy=None, importance_type=None,\n",
       "             interaction_constraints=None, learning_rate=None, max_bin=None,\n",
       "             max_cat_threshold=None, max_cat_to_onehot=None,\n",
       "             max_delta_step=None, max_depth=None, max_leaves=None,\n",
       "             min_child_weight=None, missing=nan, monotone_constraints=None,\n",
       "             multi_strategy=None, n_estimators=None, n_jobs=None,\n",
       "             num_parallel_tree=None, random_state=None, ...)</pre><b>In a Jupyter environment, please rerun this cell to show the HTML representation or trust the notebook. <br />On GitHub, the HTML representation is unable to render, please try loading this page with nbviewer.org.</b></div><div class=\"sk-container\" hidden><div class=\"sk-item\"><div class=\"sk-estimator sk-toggleable\"><input class=\"sk-toggleable__control sk-hidden--visually\" id=\"sk-estimator-id-2\" type=\"checkbox\" checked><label for=\"sk-estimator-id-2\" class=\"sk-toggleable__label sk-toggleable__label-arrow\">XGBRegressor</label><div class=\"sk-toggleable__content\"><pre>XGBRegressor(base_score=None, booster=None, callbacks=None,\n",
       "             colsample_bylevel=None, colsample_bynode=None,\n",
       "             colsample_bytree=None, device=None, early_stopping_rounds=None,\n",
       "             enable_categorical=False, eval_metric=None, feature_types=None,\n",
       "             gamma=None, grow_policy=None, importance_type=None,\n",
       "             interaction_constraints=None, learning_rate=None, max_bin=None,\n",
       "             max_cat_threshold=None, max_cat_to_onehot=None,\n",
       "             max_delta_step=None, max_depth=None, max_leaves=None,\n",
       "             min_child_weight=None, missing=nan, monotone_constraints=None,\n",
       "             multi_strategy=None, n_estimators=None, n_jobs=None,\n",
       "             num_parallel_tree=None, random_state=None, ...)</pre></div></div></div></div></div>"
      ]
     },
     "execution_count": 17,
     "metadata": {},
     "output_type": "execute_result"
    }
   ],
   "execution_count": 17
  },
  {
   "cell_type": "code",
   "id": "5c60d81d",
   "metadata": {
    "ExecuteTime": {
     "end_time": "2024-06-28T05:17:19.594454Z",
     "start_time": "2024-06-28T05:17:19.517450Z"
    }
   },
   "source": [
    "y_prediction= model.predict(x_test)\n",
    "\n",
    "# Calculate MSE\n",
    "mse = mean_squared_error(y_test, y_prediction)\n",
    "\n",
    "# Calculate RMSE\n",
    "rmse = np.sqrt(mse)\n",
    "\n",
    "# Calculate MAPE\n",
    "mape = mean_absolute_percentage_error(y_test, y_prediction)\n",
    "\n",
    "# Calculate r2 score\n",
    "r2 = r2_score(y_test,y_prediction)\n",
    "\n",
    "# Print the evaluation metrics\n",
    "print(f'MSE: {mse}')\n",
    "print(f'RMSE: {rmse}')\n",
    "print(f'MAPE: {mape}')\n",
    "print(f'r2_score: {r2}')"
   ],
   "outputs": [
    {
     "name": "stdout",
     "output_type": "stream",
     "text": [
      "MSE: 17733418.440533876\n",
      "RMSE: 4211.106557727301\n",
      "MAPE: 0.21552302103890542\n",
      "r2_score: 0.8806490131526385\n"
     ]
    }
   ],
   "execution_count": 18
  },
  {
   "cell_type": "code",
   "id": "c0608173",
   "metadata": {
    "ExecuteTime": {
     "end_time": "2024-06-28T05:18:43.948313Z",
     "start_time": "2024-06-28T05:17:19.597456Z"
    }
   },
   "source": [
    "# Creating the 3nd model\n",
    "\n",
    "model1=RandomForestRegressor()\n",
    "\n",
    "# Fit the model\n",
    "model1.fit(x_train, y_train)"
   ],
   "outputs": [
    {
     "data": {
      "text/plain": [
       "RandomForestRegressor()"
      ],
      "text/html": [
       "<style>#sk-container-id-3 {color: black;background-color: white;}#sk-container-id-3 pre{padding: 0;}#sk-container-id-3 div.sk-toggleable {background-color: white;}#sk-container-id-3 label.sk-toggleable__label {cursor: pointer;display: block;width: 100%;margin-bottom: 0;padding: 0.3em;box-sizing: border-box;text-align: center;}#sk-container-id-3 label.sk-toggleable__label-arrow:before {content: \"▸\";float: left;margin-right: 0.25em;color: #696969;}#sk-container-id-3 label.sk-toggleable__label-arrow:hover:before {color: black;}#sk-container-id-3 div.sk-estimator:hover label.sk-toggleable__label-arrow:before {color: black;}#sk-container-id-3 div.sk-toggleable__content {max-height: 0;max-width: 0;overflow: hidden;text-align: left;background-color: #f0f8ff;}#sk-container-id-3 div.sk-toggleable__content pre {margin: 0.2em;color: black;border-radius: 0.25em;background-color: #f0f8ff;}#sk-container-id-3 input.sk-toggleable__control:checked~div.sk-toggleable__content {max-height: 200px;max-width: 100%;overflow: auto;}#sk-container-id-3 input.sk-toggleable__control:checked~label.sk-toggleable__label-arrow:before {content: \"▾\";}#sk-container-id-3 div.sk-estimator input.sk-toggleable__control:checked~label.sk-toggleable__label {background-color: #d4ebff;}#sk-container-id-3 div.sk-label input.sk-toggleable__control:checked~label.sk-toggleable__label {background-color: #d4ebff;}#sk-container-id-3 input.sk-hidden--visually {border: 0;clip: rect(1px 1px 1px 1px);clip: rect(1px, 1px, 1px, 1px);height: 1px;margin: -1px;overflow: hidden;padding: 0;position: absolute;width: 1px;}#sk-container-id-3 div.sk-estimator {font-family: monospace;background-color: #f0f8ff;border: 1px dotted black;border-radius: 0.25em;box-sizing: border-box;margin-bottom: 0.5em;}#sk-container-id-3 div.sk-estimator:hover {background-color: #d4ebff;}#sk-container-id-3 div.sk-parallel-item::after {content: \"\";width: 100%;border-bottom: 1px solid gray;flex-grow: 1;}#sk-container-id-3 div.sk-label:hover label.sk-toggleable__label {background-color: #d4ebff;}#sk-container-id-3 div.sk-serial::before {content: \"\";position: absolute;border-left: 1px solid gray;box-sizing: border-box;top: 0;bottom: 0;left: 50%;z-index: 0;}#sk-container-id-3 div.sk-serial {display: flex;flex-direction: column;align-items: center;background-color: white;padding-right: 0.2em;padding-left: 0.2em;position: relative;}#sk-container-id-3 div.sk-item {position: relative;z-index: 1;}#sk-container-id-3 div.sk-parallel {display: flex;align-items: stretch;justify-content: center;background-color: white;position: relative;}#sk-container-id-3 div.sk-item::before, #sk-container-id-3 div.sk-parallel-item::before {content: \"\";position: absolute;border-left: 1px solid gray;box-sizing: border-box;top: 0;bottom: 0;left: 50%;z-index: -1;}#sk-container-id-3 div.sk-parallel-item {display: flex;flex-direction: column;z-index: 1;position: relative;background-color: white;}#sk-container-id-3 div.sk-parallel-item:first-child::after {align-self: flex-end;width: 50%;}#sk-container-id-3 div.sk-parallel-item:last-child::after {align-self: flex-start;width: 50%;}#sk-container-id-3 div.sk-parallel-item:only-child::after {width: 0;}#sk-container-id-3 div.sk-dashed-wrapped {border: 1px dashed gray;margin: 0 0.4em 0.5em 0.4em;box-sizing: border-box;padding-bottom: 0.4em;background-color: white;}#sk-container-id-3 div.sk-label label {font-family: monospace;font-weight: bold;display: inline-block;line-height: 1.2em;}#sk-container-id-3 div.sk-label-container {text-align: center;}#sk-container-id-3 div.sk-container {/* jupyter's `normalize.less` sets `[hidden] { display: none; }` but bootstrap.min.css set `[hidden] { display: none !important; }` so we also need the `!important` here to be able to override the default hidden behavior on the sphinx rendered scikit-learn.org. See: https://github.com/scikit-learn/scikit-learn/issues/21755 */display: inline-block !important;position: relative;}#sk-container-id-3 div.sk-text-repr-fallback {display: none;}</style><div id=\"sk-container-id-3\" class=\"sk-top-container\"><div class=\"sk-text-repr-fallback\"><pre>RandomForestRegressor()</pre><b>In a Jupyter environment, please rerun this cell to show the HTML representation or trust the notebook. <br />On GitHub, the HTML representation is unable to render, please try loading this page with nbviewer.org.</b></div><div class=\"sk-container\" hidden><div class=\"sk-item\"><div class=\"sk-estimator sk-toggleable\"><input class=\"sk-toggleable__control sk-hidden--visually\" id=\"sk-estimator-id-3\" type=\"checkbox\" checked><label for=\"sk-estimator-id-3\" class=\"sk-toggleable__label sk-toggleable__label-arrow\">RandomForestRegressor</label><div class=\"sk-toggleable__content\"><pre>RandomForestRegressor()</pre></div></div></div></div></div>"
      ]
     },
     "execution_count": 19,
     "metadata": {},
     "output_type": "execute_result"
    }
   ],
   "execution_count": 19
  },
  {
   "cell_type": "code",
   "id": "155e9b9b",
   "metadata": {
    "ExecuteTime": {
     "end_time": "2024-06-28T05:18:45.067397Z",
     "start_time": "2024-06-28T05:18:43.951315Z"
    }
   },
   "source": [
    "y_prediction= model1.predict(x_test)\n",
    "\n",
    "# Calculate MSE\n",
    "mse = mean_squared_error(y_test, y_prediction)\n",
    "\n",
    "# Calculate RMSE\n",
    "rmse = np.sqrt(mse)\n",
    "\n",
    "# Calculate MAPE\n",
    "mape = mean_absolute_percentage_error(y_test, y_prediction)\n",
    "\n",
    "# Calculate r2 score\n",
    "r2 = r2_score(y_test,y_prediction)\n",
    "\n",
    "# Print the evaluation metrics\n",
    "print(f'MSE: {mse}')\n",
    "print(f'RMSE: {rmse}')\n",
    "print(f'MAPE: {mape}')\n",
    "print(f'r2_score: {r2}')"
   ],
   "outputs": [
    {
     "name": "stdout",
     "output_type": "stream",
     "text": [
      "MSE: 11670775.177436996\n",
      "RMSE: 3416.2516267741457\n",
      "MAPE: 0.13740303105204427\n",
      "r2_score: 0.9214523393009801\n"
     ]
    }
   ],
   "execution_count": 20
  },
  {
   "cell_type": "code",
   "id": "5359fd2c",
   "metadata": {
    "ExecuteTime": {
     "end_time": "2024-06-28T05:18:45.115406Z",
     "start_time": "2024-06-28T05:18:45.069399Z"
    }
   },
   "source": [
    "# Creating the 4nd model\n",
    "from sklearn.neighbors import KNeighborsRegressor\n",
    "model=KNeighborsRegressor()\n",
    "\n",
    "# Fit the model\n",
    "model.fit(x_train, y_train)"
   ],
   "outputs": [
    {
     "data": {
      "text/plain": [
       "KNeighborsRegressor()"
      ],
      "text/html": [
       "<style>#sk-container-id-4 {color: black;background-color: white;}#sk-container-id-4 pre{padding: 0;}#sk-container-id-4 div.sk-toggleable {background-color: white;}#sk-container-id-4 label.sk-toggleable__label {cursor: pointer;display: block;width: 100%;margin-bottom: 0;padding: 0.3em;box-sizing: border-box;text-align: center;}#sk-container-id-4 label.sk-toggleable__label-arrow:before {content: \"▸\";float: left;margin-right: 0.25em;color: #696969;}#sk-container-id-4 label.sk-toggleable__label-arrow:hover:before {color: black;}#sk-container-id-4 div.sk-estimator:hover label.sk-toggleable__label-arrow:before {color: black;}#sk-container-id-4 div.sk-toggleable__content {max-height: 0;max-width: 0;overflow: hidden;text-align: left;background-color: #f0f8ff;}#sk-container-id-4 div.sk-toggleable__content pre {margin: 0.2em;color: black;border-radius: 0.25em;background-color: #f0f8ff;}#sk-container-id-4 input.sk-toggleable__control:checked~div.sk-toggleable__content {max-height: 200px;max-width: 100%;overflow: auto;}#sk-container-id-4 input.sk-toggleable__control:checked~label.sk-toggleable__label-arrow:before {content: \"▾\";}#sk-container-id-4 div.sk-estimator input.sk-toggleable__control:checked~label.sk-toggleable__label {background-color: #d4ebff;}#sk-container-id-4 div.sk-label input.sk-toggleable__control:checked~label.sk-toggleable__label {background-color: #d4ebff;}#sk-container-id-4 input.sk-hidden--visually {border: 0;clip: rect(1px 1px 1px 1px);clip: rect(1px, 1px, 1px, 1px);height: 1px;margin: -1px;overflow: hidden;padding: 0;position: absolute;width: 1px;}#sk-container-id-4 div.sk-estimator {font-family: monospace;background-color: #f0f8ff;border: 1px dotted black;border-radius: 0.25em;box-sizing: border-box;margin-bottom: 0.5em;}#sk-container-id-4 div.sk-estimator:hover {background-color: #d4ebff;}#sk-container-id-4 div.sk-parallel-item::after {content: \"\";width: 100%;border-bottom: 1px solid gray;flex-grow: 1;}#sk-container-id-4 div.sk-label:hover label.sk-toggleable__label {background-color: #d4ebff;}#sk-container-id-4 div.sk-serial::before {content: \"\";position: absolute;border-left: 1px solid gray;box-sizing: border-box;top: 0;bottom: 0;left: 50%;z-index: 0;}#sk-container-id-4 div.sk-serial {display: flex;flex-direction: column;align-items: center;background-color: white;padding-right: 0.2em;padding-left: 0.2em;position: relative;}#sk-container-id-4 div.sk-item {position: relative;z-index: 1;}#sk-container-id-4 div.sk-parallel {display: flex;align-items: stretch;justify-content: center;background-color: white;position: relative;}#sk-container-id-4 div.sk-item::before, #sk-container-id-4 div.sk-parallel-item::before {content: \"\";position: absolute;border-left: 1px solid gray;box-sizing: border-box;top: 0;bottom: 0;left: 50%;z-index: -1;}#sk-container-id-4 div.sk-parallel-item {display: flex;flex-direction: column;z-index: 1;position: relative;background-color: white;}#sk-container-id-4 div.sk-parallel-item:first-child::after {align-self: flex-end;width: 50%;}#sk-container-id-4 div.sk-parallel-item:last-child::after {align-self: flex-start;width: 50%;}#sk-container-id-4 div.sk-parallel-item:only-child::after {width: 0;}#sk-container-id-4 div.sk-dashed-wrapped {border: 1px dashed gray;margin: 0 0.4em 0.5em 0.4em;box-sizing: border-box;padding-bottom: 0.4em;background-color: white;}#sk-container-id-4 div.sk-label label {font-family: monospace;font-weight: bold;display: inline-block;line-height: 1.2em;}#sk-container-id-4 div.sk-label-container {text-align: center;}#sk-container-id-4 div.sk-container {/* jupyter's `normalize.less` sets `[hidden] { display: none; }` but bootstrap.min.css set `[hidden] { display: none !important; }` so we also need the `!important` here to be able to override the default hidden behavior on the sphinx rendered scikit-learn.org. See: https://github.com/scikit-learn/scikit-learn/issues/21755 */display: inline-block !important;position: relative;}#sk-container-id-4 div.sk-text-repr-fallback {display: none;}</style><div id=\"sk-container-id-4\" class=\"sk-top-container\"><div class=\"sk-text-repr-fallback\"><pre>KNeighborsRegressor()</pre><b>In a Jupyter environment, please rerun this cell to show the HTML representation or trust the notebook. <br />On GitHub, the HTML representation is unable to render, please try loading this page with nbviewer.org.</b></div><div class=\"sk-container\" hidden><div class=\"sk-item\"><div class=\"sk-estimator sk-toggleable\"><input class=\"sk-toggleable__control sk-hidden--visually\" id=\"sk-estimator-id-4\" type=\"checkbox\" checked><label for=\"sk-estimator-id-4\" class=\"sk-toggleable__label sk-toggleable__label-arrow\">KNeighborsRegressor</label><div class=\"sk-toggleable__content\"><pre>KNeighborsRegressor()</pre></div></div></div></div></div>"
      ]
     },
     "execution_count": 21,
     "metadata": {},
     "output_type": "execute_result"
    }
   ],
   "execution_count": 21
  },
  {
   "cell_type": "code",
   "id": "c25eab88",
   "metadata": {
    "ExecuteTime": {
     "end_time": "2024-06-28T05:18:50.303722Z",
     "start_time": "2024-06-28T05:18:45.117402Z"
    }
   },
   "source": [
    "y_prediction= model.predict(x_test)\n",
    "\n",
    "# Calculate MSE\n",
    "mse = mean_squared_error(y_test, y_prediction)\n",
    "\n",
    "# Calculate RMSE\n",
    "rmse = np.sqrt(mse)\n",
    "\n",
    "# Calculate MAPE\n",
    "mape = mean_absolute_percentage_error(y_test, y_prediction)\n",
    "\n",
    "# Calculate r2 score\n",
    "r2 = r2_score(y_test,y_prediction)\n",
    "\n",
    "# Print the evaluation metrics\n",
    "print(f'MSE: {mse}')\n",
    "print(f'RMSE: {rmse}')\n",
    "print(f'MAPE: {mape}')\n",
    "print(f'r2_score: {r2}')"
   ],
   "outputs": [
    {
     "name": "stdout",
     "output_type": "stream",
     "text": [
      "MSE: 50731697.8116914\n",
      "RMSE: 7122.618746759607\n",
      "MAPE: 0.3557411447336659\n",
      "r2_score: 0.6585611387577898\n"
     ]
    }
   ],
   "execution_count": 22
  },
  {
   "cell_type": "code",
   "id": "216826df",
   "metadata": {
    "ExecuteTime": {
     "end_time": "2024-06-28T05:18:50.334724Z",
     "start_time": "2024-06-28T05:18:50.306723Z"
    }
   },
   "source": [
    "# Data for the table\n",
    "data = {\n",
    "    \"Sr No\": [1, 2, 3, 4],\n",
    "    \"Algorithm Name\": [\"Linear Regression\", \"XGBoost Regressor\", \"Random Forest Regressor\",\"K-Nearest Neighbors\"],\n",
    "    \"MSE\": [69401836.12823519, 17732418.440533876, 11608783.146707743, 50731697.8116914],\n",
    "    \"RMSE\": [8330.74943376856, 4211.106577723701, 3417.71607169287, 7122.618746759607],\n",
    "    \"MAPE\": [0.49237351807802195, 0.21552320123890542, 0.13741312156640414,0.3557411447336659 ],\n",
    "    \"R2 Score\": [0.5329087873973222, 0.8806490311526385, 0.9213849828804381, 0.6585611387577898]\n",
    "}\n",
    "\n",
    "# Creating the DataFrame\n",
    "df = pd.DataFrame(data)\n",
    "\n",
    "# Display the DataFrame\n",
    "df"
   ],
   "outputs": [
    {
     "data": {
      "text/plain": [
       "   Sr No           Algorithm Name           MSE         RMSE      MAPE  \\\n",
       "0      1        Linear Regression  6.940184e+07  8330.749434  0.492374   \n",
       "1      2        XGBoost Regressor  1.773242e+07  4211.106578  0.215523   \n",
       "2      3  Random Forest Regressor  1.160878e+07  3417.716072  0.137413   \n",
       "3      4      K-Nearest Neighbors  5.073170e+07  7122.618747  0.355741   \n",
       "\n",
       "   R2 Score  \n",
       "0  0.532909  \n",
       "1  0.880649  \n",
       "2  0.921385  \n",
       "3  0.658561  "
      ],
      "text/html": [
       "<div>\n",
       "<style scoped>\n",
       "    .dataframe tbody tr th:only-of-type {\n",
       "        vertical-align: middle;\n",
       "    }\n",
       "\n",
       "    .dataframe tbody tr th {\n",
       "        vertical-align: top;\n",
       "    }\n",
       "\n",
       "    .dataframe thead th {\n",
       "        text-align: right;\n",
       "    }\n",
       "</style>\n",
       "<table border=\"1\" class=\"dataframe\">\n",
       "  <thead>\n",
       "    <tr style=\"text-align: right;\">\n",
       "      <th></th>\n",
       "      <th>Sr No</th>\n",
       "      <th>Algorithm Name</th>\n",
       "      <th>MSE</th>\n",
       "      <th>RMSE</th>\n",
       "      <th>MAPE</th>\n",
       "      <th>R2 Score</th>\n",
       "    </tr>\n",
       "  </thead>\n",
       "  <tbody>\n",
       "    <tr>\n",
       "      <th>0</th>\n",
       "      <td>1</td>\n",
       "      <td>Linear Regression</td>\n",
       "      <td>6.940184e+07</td>\n",
       "      <td>8330.749434</td>\n",
       "      <td>0.492374</td>\n",
       "      <td>0.532909</td>\n",
       "    </tr>\n",
       "    <tr>\n",
       "      <th>1</th>\n",
       "      <td>2</td>\n",
       "      <td>XGBoost Regressor</td>\n",
       "      <td>1.773242e+07</td>\n",
       "      <td>4211.106578</td>\n",
       "      <td>0.215523</td>\n",
       "      <td>0.880649</td>\n",
       "    </tr>\n",
       "    <tr>\n",
       "      <th>2</th>\n",
       "      <td>3</td>\n",
       "      <td>Random Forest Regressor</td>\n",
       "      <td>1.160878e+07</td>\n",
       "      <td>3417.716072</td>\n",
       "      <td>0.137413</td>\n",
       "      <td>0.921385</td>\n",
       "    </tr>\n",
       "    <tr>\n",
       "      <th>3</th>\n",
       "      <td>4</td>\n",
       "      <td>K-Nearest Neighbors</td>\n",
       "      <td>5.073170e+07</td>\n",
       "      <td>7122.618747</td>\n",
       "      <td>0.355741</td>\n",
       "      <td>0.658561</td>\n",
       "    </tr>\n",
       "  </tbody>\n",
       "</table>\n",
       "</div>"
      ]
     },
     "execution_count": 23,
     "metadata": {},
     "output_type": "execute_result"
    }
   ],
   "execution_count": 23
  },
  {
   "metadata": {
    "ExecuteTime": {
     "end_time": "2024-06-28T05:18:50.350726Z",
     "start_time": "2024-06-28T05:18:50.338727Z"
    }
   },
   "cell_type": "code",
   "source": "import pickle",
   "id": "a92c6432575c94ed",
   "outputs": [],
   "execution_count": 24
  },
  {
   "cell_type": "code",
   "id": "7cecc794",
   "metadata": {
    "ExecuteTime": {
     "end_time": "2024-06-28T05:19:46.626966Z",
     "start_time": "2024-06-28T05:19:43.120118Z"
    }
   },
   "source": [
    "# save / dump the model to a file \n",
    "# w - write, b - b format,t- text format\n",
    "with open('car_price_prediction.pkl','wb') as file:\n",
    "    pickle.dump(model1,file)"
   ],
   "outputs": [],
   "execution_count": 25
  },
  {
   "cell_type": "code",
   "execution_count": null,
   "id": "966831f6",
   "metadata": {},
   "outputs": [],
   "source": []
  }
 ],
 "metadata": {
  "kernelspec": {
   "display_name": "Python 3 (ipykernel)",
   "language": "python",
   "name": "python3"
  },
  "language_info": {
   "codemirror_mode": {
    "name": "ipython",
    "version": 3
   },
   "file_extension": ".py",
   "mimetype": "text/x-python",
   "name": "python",
   "nbconvert_exporter": "python",
   "pygments_lexer": "ipython3",
   "version": "3.10.9"
  }
 },
 "nbformat": 4,
 "nbformat_minor": 5
}
